{
 "cells": [
  {
   "cell_type": "markdown",
   "metadata": {},
   "source": [
    "# Testes de Tradução\n",
    "### Experimentando APIs de tradução para traduzir texto de posts para inglês."
   ]
  },
  {
   "cell_type": "code",
   "execution_count": 16,
   "metadata": {},
   "outputs": [],
   "source": [
    "from deep_translator import GoogleTranslator\n",
    "from instaReader import instaReader\n",
    "import selenium.webdriver as webdriver\n",
    "import pandas as pd\n",
    "from monkeylearn import MonkeyLearn\n",
    "import json "
   ]
  },
  {
   "cell_type": "code",
   "execution_count": 12,
   "metadata": {},
   "outputs": [
    {
     "data": {
      "text/plain": [
       "'Hello World!'"
      ]
     },
     "execution_count": 12,
     "metadata": {},
     "output_type": "execute_result"
    }
   ],
   "source": [
    "translated = GoogleTranslator(source='portuguese', target='english').translate(\"Olá mundo!\")\n",
    "translated"
   ]
  },
  {
   "cell_type": "code",
   "execution_count": 13,
   "metadata": {},
   "outputs": [
    {
     "data": {
      "text/html": [
       "<div>\n",
       "<style scoped>\n",
       "    .dataframe tbody tr th:only-of-type {\n",
       "        vertical-align: middle;\n",
       "    }\n",
       "\n",
       "    .dataframe tbody tr th {\n",
       "        vertical-align: top;\n",
       "    }\n",
       "\n",
       "    .dataframe thead th {\n",
       "        text-align: right;\n",
       "    }\n",
       "</style>\n",
       "<table border=\"1\" class=\"dataframe\">\n",
       "  <thead>\n",
       "    <tr style=\"text-align: right;\">\n",
       "      <th></th>\n",
       "      <th>code</th>\n",
       "      <th>date</th>\n",
       "      <th>likes</th>\n",
       "      <th>text</th>\n",
       "    </tr>\n",
       "  </thead>\n",
       "  <tbody>\n",
       "    <tr>\n",
       "      <th>0</th>\n",
       "      <td>CJMcWmel7wh</td>\n",
       "      <td>2020-12-24T20:46:39.000Z</td>\n",
       "      <td>18</td>\n",
       "      <td>O capítulo estudantil PELS/IAS-UFRJ deseja a t...</td>\n",
       "    </tr>\n",
       "    <tr>\n",
       "      <th>1</th>\n",
       "      <td>CI1VPzMF-Cw</td>\n",
       "      <td>2020-12-15T21:22:02.000Z</td>\n",
       "      <td>38</td>\n",
       "      <td>No dia 22/12 às 17h, o Capítulo Estudantil PEL...</td>\n",
       "    </tr>\n",
       "    <tr>\n",
       "      <th>2</th>\n",
       "      <td>CIrAhewFeq_</td>\n",
       "      <td>2020-12-11T21:08:32.000Z</td>\n",
       "      <td>30</td>\n",
       "      <td>A engenharia é a ciência, a arte e a profissão...</td>\n",
       "    </tr>\n",
       "    <tr>\n",
       "      <th>3</th>\n",
       "      <td>CIZR0irF-Pd</td>\n",
       "      <td>2020-12-04T23:53:21.000Z</td>\n",
       "      <td>30</td>\n",
       "      <td>O grupo LASPOT é o laboratório de sistemas de ...</td>\n",
       "    </tr>\n",
       "    <tr>\n",
       "      <th>4</th>\n",
       "      <td>CIEah-LFL8C</td>\n",
       "      <td>2020-11-26T21:25:25.000Z</td>\n",
       "      <td>16</td>\n",
       "      <td>O mês de novembro  é marcado pela conscientiza...</td>\n",
       "    </tr>\n",
       "  </tbody>\n",
       "</table>\n",
       "</div>"
      ],
      "text/plain": [
       "          code                      date likes  \\\n",
       "0  CJMcWmel7wh  2020-12-24T20:46:39.000Z    18   \n",
       "1  CI1VPzMF-Cw  2020-12-15T21:22:02.000Z    38   \n",
       "2  CIrAhewFeq_  2020-12-11T21:08:32.000Z    30   \n",
       "3  CIZR0irF-Pd  2020-12-04T23:53:21.000Z    30   \n",
       "4  CIEah-LFL8C  2020-11-26T21:25:25.000Z    16   \n",
       "\n",
       "                                                text  \n",
       "0  O capítulo estudantil PELS/IAS-UFRJ deseja a t...  \n",
       "1  No dia 22/12 às 17h, o Capítulo Estudantil PEL...  \n",
       "2  A engenharia é a ciência, a arte e a profissão...  \n",
       "3  O grupo LASPOT é o laboratório de sistemas de ...  \n",
       "4  O mês de novembro  é marcado pela conscientiza...  "
      ]
     },
     "execution_count": 13,
     "metadata": {},
     "output_type": "execute_result"
    }
   ],
   "source": [
    "posts = pd.read_pickle(\"./data/posts_pels.pkl\").dropna()\n",
    "posts.head()"
   ]
  },
  {
   "cell_type": "code",
   "execution_count": 14,
   "metadata": {},
   "outputs": [
    {
     "data": {
      "text/html": [
       "<div>\n",
       "<style scoped>\n",
       "    .dataframe tbody tr th:only-of-type {\n",
       "        vertical-align: middle;\n",
       "    }\n",
       "\n",
       "    .dataframe tbody tr th {\n",
       "        vertical-align: top;\n",
       "    }\n",
       "\n",
       "    .dataframe thead th {\n",
       "        text-align: right;\n",
       "    }\n",
       "</style>\n",
       "<table border=\"1\" class=\"dataframe\">\n",
       "  <thead>\n",
       "    <tr style=\"text-align: right;\">\n",
       "      <th></th>\n",
       "      <th>code</th>\n",
       "      <th>date</th>\n",
       "      <th>likes</th>\n",
       "      <th>text</th>\n",
       "    </tr>\n",
       "  </thead>\n",
       "  <tbody>\n",
       "    <tr>\n",
       "      <th>0</th>\n",
       "      <td>CJMcWmel7wh</td>\n",
       "      <td>2020-12-24T20:46:39.000Z</td>\n",
       "      <td>18</td>\n",
       "      <td>The PELS / IAS-UFRJ student chapter wishes eve...</td>\n",
       "    </tr>\n",
       "    <tr>\n",
       "      <th>1</th>\n",
       "      <td>CI1VPzMF-Cw</td>\n",
       "      <td>2020-12-15T21:22:02.000Z</td>\n",
       "      <td>38</td>\n",
       "      <td>On 12/22 at 5 pm, the PELS / IAS Student Chapt...</td>\n",
       "    </tr>\n",
       "    <tr>\n",
       "      <th>2</th>\n",
       "      <td>CIrAhewFeq_</td>\n",
       "      <td>2020-12-11T21:08:32.000Z</td>\n",
       "      <td>30</td>\n",
       "      <td>Engineering is the science, art and profession...</td>\n",
       "    </tr>\n",
       "    <tr>\n",
       "      <th>3</th>\n",
       "      <td>CIZR0irF-Pd</td>\n",
       "      <td>2020-12-04T23:53:21.000Z</td>\n",
       "      <td>30</td>\n",
       "      <td>The LASPOT group is the power systems laborato...</td>\n",
       "    </tr>\n",
       "    <tr>\n",
       "      <th>4</th>\n",
       "      <td>CIEah-LFL8C</td>\n",
       "      <td>2020-11-26T21:25:25.000Z</td>\n",
       "      <td>16</td>\n",
       "      <td>The month of November is marked by the awarene...</td>\n",
       "    </tr>\n",
       "  </tbody>\n",
       "</table>\n",
       "</div>"
      ],
      "text/plain": [
       "          code                      date likes  \\\n",
       "0  CJMcWmel7wh  2020-12-24T20:46:39.000Z    18   \n",
       "1  CI1VPzMF-Cw  2020-12-15T21:22:02.000Z    38   \n",
       "2  CIrAhewFeq_  2020-12-11T21:08:32.000Z    30   \n",
       "3  CIZR0irF-Pd  2020-12-04T23:53:21.000Z    30   \n",
       "4  CIEah-LFL8C  2020-11-26T21:25:25.000Z    16   \n",
       "\n",
       "                                                text  \n",
       "0  The PELS / IAS-UFRJ student chapter wishes eve...  \n",
       "1  On 12/22 at 5 pm, the PELS / IAS Student Chapt...  \n",
       "2  Engineering is the science, art and profession...  \n",
       "3  The LASPOT group is the power systems laborato...  \n",
       "4  The month of November is marked by the awarene...  "
      ]
     },
     "execution_count": 14,
     "metadata": {},
     "output_type": "execute_result"
    }
   ],
   "source": [
    "posts_trans = posts.copy()\n",
    "translate = lambda text : GoogleTranslator(source='portuguese', target='english').translate(text)\n",
    "posts_trans['text'] = posts_trans['text'].apply(translate)\n",
    "posts_trans.head()"
   ]
  },
  {
   "cell_type": "code",
   "execution_count": 29,
   "metadata": {},
   "outputs": [
    {
     "name": "stdout",
     "output_type": "stream",
     "text": [
      "On 12/22 at 5 pm, the PELS / IAS Student Chapter of UFRJ will organize another Webinar, this time with the theme “Academic training in the Brazilian Power Electronics industry”, taught by Doctor Jorge Eliecer Caicedo, Engineer at ADELCO Energy Systems. During the lecture, the niches of performance of a specialist in Power Electronics in the Energy industry will be addressed, as well as how the process of developing a Power Converter takes place until commercialization and implementation in the field. The current scenario of Power Electronics in the industry and the challenges that the future holds will also be discussed. Entries can be made through this link bit.ly/indelepot (link in the bio!). We will send all subscribers an email on the day of the webinar with the link for the broadcast. Subscribe now! #Pels #ias #eletrica #eletronica #ieee #converters #webinar\n"
     ]
    },
    {
     "data": {
      "text/plain": [
       "[{'tag_name': 'KEYWORD',\n",
       "  'parsed_value': 'adelco energy system',\n",
       "  'count': 1,\n",
       "  'relevance': '0.968',\n",
       "  'positions_in_text': [230]},\n",
       " {'tag_name': 'KEYWORD',\n",
       "  'parsed_value': 'brazilian power electronics',\n",
       "  'count': 1,\n",
       "  'relevance': '0.968',\n",
       "  'positions_in_text': [139]},\n",
       " {'tag_name': 'KEYWORD',\n",
       "  'parsed_value': 'ia students chapter',\n",
       "  'count': 1,\n",
       "  'relevance': '0.968',\n",
       "  'positions_in_text': [29]},\n",
       " {'tag_name': 'KEYWORD',\n",
       "  'parsed_value': 'jorge eliecer caicedo',\n",
       "  'count': 1,\n",
       "  'relevance': '0.968',\n",
       "  'positions_in_text': [195]},\n",
       " {'tag_name': 'KEYWORD',\n",
       "  'parsed_value': 'scenario of power',\n",
       "  'count': 1,\n",
       "  'relevance': '0.968',\n",
       "  'positions_in_text': [518]},\n",
       " {'tag_name': 'KEYWORD',\n",
       "  'parsed_value': 'niche of performance',\n",
       "  'count': 1,\n",
       "  'relevance': '0.968',\n",
       "  'positions_in_text': [277]},\n",
       " {'tag_name': 'KEYWORD',\n",
       "  'parsed_value': 'links',\n",
       "  'count': 3,\n",
       "  'relevance': '0.968',\n",
       "  'positions_in_text': [662, 685, 777]},\n",
       " {'tag_name': 'KEYWORD',\n",
       "  'parsed_value': 'doctor jorge eliecer',\n",
       "  'count': 1,\n",
       "  'relevance': '0.968',\n",
       "  'positions_in_text': [188]},\n",
       " {'tag_name': 'KEYWORD',\n",
       "  'parsed_value': 'chapter of ufrj',\n",
       "  'count': 1,\n",
       "  'relevance': '0.968',\n",
       "  'positions_in_text': [41]},\n",
       " {'tag_name': 'KEYWORD',\n",
       "  'parsed_value': 'power electronics industry',\n",
       "  'count': 1,\n",
       "  'relevance': '0.968',\n",
       "  'positions_in_text': [149]}]"
      ]
     },
     "execution_count": 29,
     "metadata": {},
     "output_type": "execute_result"
    }
   ],
   "source": [
    "ml = MonkeyLearn('59953e9eb461c2eee16fb94d57eb5e49cb6d2e41')\n",
    "print(posts_trans['text'][1])\n",
    "data = [posts_trans['text'][1]]\n",
    "model_id = 'ex_YCya9nrn'\n",
    "result = ml.extractors.extract(model_id, data)\n",
    "result.body[0]['extractions']"
   ]
  },
  {
   "cell_type": "code",
   "execution_count": null,
   "metadata": {},
   "outputs": [],
   "source": []
  }
 ],
 "metadata": {
  "kernelspec": {
   "display_name": "Python 3",
   "language": "python",
   "name": "python3"
  },
  "language_info": {
   "codemirror_mode": {
    "name": "ipython",
    "version": 3
   },
   "file_extension": ".py",
   "mimetype": "text/x-python",
   "name": "python",
   "nbconvert_exporter": "python",
   "pygments_lexer": "ipython3",
   "version": "3.7.3"
  }
 },
 "nbformat": 4,
 "nbformat_minor": 4
}
