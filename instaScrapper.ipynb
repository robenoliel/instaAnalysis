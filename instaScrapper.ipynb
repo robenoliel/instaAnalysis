{
 "cells": [
  {
   "cell_type": "markdown",
   "metadata": {},
   "source": [
    "# PELS/IAS UFRJ Instagram Data Scrapper\n",
    "### Este projeto é uma iniciativa da coordenação de marketing do capítulo estudantil, com o objetivo do aproveitamento de técnicas de ciência de dados para análise e métricas de publicidade e contato com o público.\n",
    "\n",
    "Importando bibliotecas:"
   ]
  },
  {
   "cell_type": "code",
   "execution_count": 1,
   "metadata": {},
   "outputs": [],
   "source": [
    "from bs4 import BeautifulSoup                         #Tratamento do texto HTML\n",
    "import requests                                       #Acesso a página web\n",
    "import selenium.webdriver as webdriver                #Acesso a página web\n",
    "from time import sleep                                #Criação de intervalos\n",
    "import pandas as pd                                   #Métodos e classes de análise de dados"
   ]
  },
  {
   "cell_type": "markdown",
   "metadata": {},
   "source": [
    "Configura acesso web e acessa página de login:"
   ]
  },
  {
   "cell_type": "code",
   "execution_count": 2,
   "metadata": {},
   "outputs": [],
   "source": [
    "url = 'https://www.instagram.com/accounts/login/'       #URL do insta do PELS/IAS\n",
    "#Localiza driver do navegador, no caso firefox, no dispositivo, pode ser baixado em https://github.com/mozilla/geckodriver/releases\n",
    "driver = webdriver.Firefox(executable_path = 'C:\\\\Users\\\\roben\\\\geckodriver.exe')\n",
    "driver.get(url)"
   ]
  },
  {
   "cell_type": "markdown",
   "metadata": {},
   "source": [
    "Faz login:"
   ]
  },
  {
   "cell_type": "code",
   "execution_count": 3,
   "metadata": {},
   "outputs": [],
   "source": [
    "sleep(3)\n",
    "\n",
    "login = '@pelsias.ufrj'\n",
    "password = 'pels2019ufrj'\n",
    "\n",
    "logField = driver.find_element_by_name(\"username\")\n",
    "passField = driver.find_element_by_name(\"password\")\n",
    "\n",
    "logField.send_keys(login)\n",
    "passField.send_keys(password)\n",
    "sleep(3)\n",
    "\n",
    "driver.find_elements_by_tag_name(\"button\")[1].click()"
   ]
  },
  {
   "cell_type": "markdown",
   "metadata": {},
   "source": [
    "Acessa perfil:"
   ]
  },
  {
   "cell_type": "code",
   "execution_count": 4,
   "metadata": {},
   "outputs": [],
   "source": [
    "sleep(3)\n",
    "try:\n",
    "    driver.find_element_by_tag_name(\"button\").click()\n",
    "    sleep(3)\n",
    "except:\n",
    "    pass\n",
    "try:\n",
    "    driver.find_elements_by_tag_name(\"button\")[-1].click()\n",
    "    sleep(3)\n",
    "except:\n",
    "    pass\n",
    "driver.find_element_by_link_text(\"pelsias.ufrj\").click()"
   ]
  },
  {
   "cell_type": "markdown",
   "metadata": {},
   "source": [
    "Identifica posts no corpo do HTML: (Os posts são renderizados conforme se sobe ou desce na página, portanto para ler todos, é necessário fazer a leitura conforme se desce)"
   ]
  },
  {
   "cell_type": "code",
   "execution_count": 5,
   "metadata": {},
   "outputs": [
    {
     "name": "stdout",
     "output_type": "stream",
     "text": [
      "Foram extraídos 62 posts do insta\n"
     ]
    }
   ],
   "source": [
    "sleep(5)\n",
    "insta = BeautifulSoup(driver.page_source,'lxml')\n",
    "posts = insta.findAll(class_ = \"v1Nh3 kIKUG _bz0w\")\n",
    "lastOne = posts[-1]\n",
    "step = 1000\n",
    "start = step\n",
    "driver.execute_script(\"window.scrollTo(0, \"+str(start)+\");\")\n",
    "count = 0\n",
    "while True:\n",
    "    sleep(3)\n",
    "    insta = BeautifulSoup(driver.page_source,'html.parser')\n",
    "    posts += insta.findAll(class_ = \"v1Nh3 kIKUG _bz0w\")\n",
    "    driver.execute_script(\"window.scrollTo(\"+str(start)+\", \"+str(start+step)+\");\")\n",
    "    start+=step\n",
    "    if posts[-1] == lastOne:\n",
    "        count+=1\n",
    "        if count == 3:\n",
    "            break\n",
    "    else:\n",
    "        count = 0\n",
    "        lastOne = posts[-1]\n",
    "postsNonRepeated = [] \n",
    "[postsNonRepeated.append(x) for x in posts if x not in postsNonRepeated] \n",
    "print('Foram extraídos',len(postsNonRepeated), 'posts do insta')\n"
   ]
  },
  {
   "cell_type": "code",
   "execution_count": 6,
   "metadata": {},
   "outputs": [
    {
     "data": {
      "text/plain": [
       "<div class=\"v1Nh3 kIKUG _bz0w\"><a href=\"/p/CI1VPzMF-Cw/\" tabindex=\"0\"><div class=\"eLAPa\"><div class=\"KL4Bh\"><img alt=\"No dia 22/12 às 17h, o Capítulo Estudantil PELS/IAS da UFRJ organizará mais um Webinar, dessa vez com o tema “A formação acadêmica na indústria de Eletrônica de Potência do Brasil”, ministrado pelo Doutor Jorge Eliecer Caicedo, Engenheiro da ADELCO Sistemas de Energia.\n",
       "\n",
       "Durante a palestra serão abordados os nichos de atuação de um especialista em Eletrônica de Potência na indústria de Energia além de como se dá o processo de desenvolvimento de um Conversor de Potência até a comercialização e implementação em campo. Também serão discutidos o cenário atual da Eletrônica de Potência na indústria e quais os desafios que o futuro nos guarda. \n",
       "\n",
       "As inscrições podem ser feitas através deste link bit.ly/indelepot (link na bio!). Enviaremos a todos os inscritos um e-mail no dia do webinar com o link da transmissão. Inscreva-se já!\n",
       "\n",
       "#pels #ias #eletrica #eletronica #ieee #conversores #webinar\" class=\"FFVAD\" decoding=\"auto\" sizes=\"293px\" src=\"https://instagram.fsdu5-1.fna.fbcdn.net/v/t51.2885-15/e35/131345283_149308763275970_5229759756926056015_n.jpg?_nc_ht=instagram.fsdu5-1.fna.fbcdn.net&amp;_nc_cat=102&amp;_nc_ohc=BOt6M9jucxsAX-0PF5D&amp;tp=1&amp;oh=2c30a50aeb932fcafe1f05e84b0731cd&amp;oe=5FE22555\" srcset=\"https://instagram.fsdu5-1.fna.fbcdn.net/v/t51.2885-15/e35/s150x150/131345283_149308763275970_5229759756926056015_n.jpg?_nc_ht=instagram.fsdu5-1.fna.fbcdn.net&amp;_nc_cat=102&amp;_nc_ohc=BOt6M9jucxsAX-0PF5D&amp;tp=1&amp;oh=767680fd02f7dfcfbccb76bf1977432a&amp;oe=5FE2666C 150w,https://instagram.fsdu5-1.fna.fbcdn.net/v/t51.2885-15/e35/s240x240/131345283_149308763275970_5229759756926056015_n.jpg?_nc_ht=instagram.fsdu5-1.fna.fbcdn.net&amp;_nc_cat=102&amp;_nc_ohc=BOt6M9jucxsAX-0PF5D&amp;tp=1&amp;oh=15859fbc6e6a08ea91ad787e0d03b05f&amp;oe=5FE2726E 240w,https://instagram.fsdu5-1.fna.fbcdn.net/v/t51.2885-15/e35/s320x320/131345283_149308763275970_5229759756926056015_n.jpg?_nc_ht=instagram.fsdu5-1.fna.fbcdn.net&amp;_nc_cat=102&amp;_nc_ohc=BOt6M9jucxsAX-0PF5D&amp;tp=1&amp;oh=67fc7ccffd7802a37170810e95d8e5e6&amp;oe=5FE25714 320w,https://instagram.fsdu5-1.fna.fbcdn.net/v/t51.2885-15/e35/s480x480/131345283_149308763275970_5229759756926056015_n.jpg?_nc_ht=instagram.fsdu5-1.fna.fbcdn.net&amp;_nc_cat=102&amp;_nc_ohc=BOt6M9jucxsAX-0PF5D&amp;tp=1&amp;oh=6af3ec4972b59b4d44f28ac9dd663457&amp;oe=5FE25695 480w,https://instagram.fsdu5-1.fna.fbcdn.net/v/t51.2885-15/e35/131345283_149308763275970_5229759756926056015_n.jpg?_nc_ht=instagram.fsdu5-1.fna.fbcdn.net&amp;_nc_cat=102&amp;_nc_ohc=BOt6M9jucxsAX-0PF5D&amp;tp=1&amp;oh=2c30a50aeb932fcafe1f05e84b0731cd&amp;oe=5FE22555 640w\" style=\"object-fit: cover;\"/></div><div class=\"_9AhH0\"></div></div><div class=\"u7YqG\"><span aria-label=\"Carrossel\" class=\"mediatypesSpriteCarousel__filled__32 u-__7\"></span></div></a></div>"
      ]
     },
     "execution_count": 6,
     "metadata": {},
     "output_type": "execute_result"
    }
   ],
   "source": [
    "posts = postsNonRepeated\n",
    "posts[0]"
   ]
  },
  {
   "cell_type": "code",
   "execution_count": null,
   "metadata": {},
   "outputs": [],
   "source": []
  }
 ],
 "metadata": {
  "kernelspec": {
   "display_name": "Python 3",
   "language": "python",
   "name": "python3"
  },
  "language_info": {
   "codemirror_mode": {
    "name": "ipython",
    "version": 3
   },
   "file_extension": ".py",
   "mimetype": "text/x-python",
   "name": "python",
   "nbconvert_exporter": "python",
   "pygments_lexer": "ipython3",
   "version": "3.7.3"
  }
 },
 "nbformat": 4,
 "nbformat_minor": 4
}
